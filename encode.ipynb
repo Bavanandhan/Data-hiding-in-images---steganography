{
 "cells": [
  {
   "cell_type": "code",
   "execution_count": 3,
   "id": "06b85944-075e-4c39-a719-8910ae28c724",
   "metadata": {},
   "outputs": [
    {
     "name": "stdout",
     "output_type": "stream",
     "text": [
      "Generated Key (Save this!): HKH9KAE5v4Cd33X6ayaVTf7DrMpAFrlKHkIObxyKgiQ=\n",
      "Message hidden successfully in C:\\Users\\user\\Downloads\\Nature pic\\stego_image.jpg\n"
     ]
    },
    {
     "name": "stderr",
     "output_type": "stream",
     "text": [
      "usage: ipykernel_launcher.py [-h] --image IMAGE --message MESSAGE --output OUTPUT\n",
      "ipykernel_launcher.py: error: the following arguments are required: --image, --message, --output\n"
     ]
    },
    {
     "ename": "SystemExit",
     "evalue": "2",
     "output_type": "error",
     "traceback": [
      "An exception has occurred, use %tb to see the full traceback.\n",
      "\u001b[1;31mSystemExit\u001b[0m\u001b[1;31m:\u001b[0m 2\n"
     ]
    }
   ],
   "source": [
    "import cv2\n",
    "import numpy as np\n",
    "from cryptography.fernet import Fernet\n",
    "import argparse\n",
    "\n",
    "# Manual Inputs\n",
    "image_path = r\"C:\\Users\\user\\Downloads\\Nature pic\\Nature.jpg\"\n",
    "message = \"Secret Message Here!\"\n",
    "output_path = r\"C:\\Users\\user\\Downloads\\Nature pic\\stego_image.jpg\"\n",
    "\n",
    "key = generate_key()\n",
    "print(f\"Generated Key (Save this!): {key.decode()}\")\n",
    "\n",
    "encode_message(image_path, message, key, output_path)\n",
    "\n",
    "# Function to generate a new encryption key\n",
    "def generate_key():\n",
    "    return Fernet.generate_key()\n",
    "\n",
    "# Function to encrypt the message\n",
    "def encrypt_message(message, key):\n",
    "    cipher = Fernet(key)\n",
    "    return cipher.encrypt(message.encode())\n",
    "\n",
    "# Function to convert a message to binary\n",
    "def message_to_binary(message):\n",
    "    return ''.join(format(byte, '08b') for byte in message)\n",
    "\n",
    "# Function to hide the encrypted message in the image\n",
    "def encode_message(image_path, message, key, output_path):\n",
    "    # Read the image\n",
    "    img = cv2.imread(image_path)\n",
    "    if img is None:\n",
    "        raise FileNotFoundError(f\"Error: Unable to read image at '{image_path}'. Check the file path and format.\")\n",
    "\n",
    "    height, width, _ = img.shape\n",
    "    \n",
    "    # Encrypt message\n",
    "    encrypted_message = encrypt_message(message, key)\n",
    "    binary_message = message_to_binary(encrypted_message) + '1111111111111110'  # End marker\n",
    "\n",
    "    data_index = 0\n",
    "    binary_length = len(binary_message)\n",
    "\n",
    "    for row in range(height):\n",
    "        for col in range(width):\n",
    "            for channel in range(3):  # Iterate through R, G, B channels\n",
    "                if data_index < binary_length:\n",
    "                    img[row, col, channel] = (img[row, col, channel] & 254) | int(binary_message[data_index])\n",
    "                    data_index += 1\n",
    "                else:\n",
    "                    cv2.imwrite(output_path, img)\n",
    "                    print(f\"Message hidden successfully in {output_path}\")\n",
    "                    return\n",
    "\n",
    "if __name__ == \"__main__\":\n",
    "    parser = argparse.ArgumentParser(description=\"Encode a secret message into an image using LSB steganography with encryption.\")\n",
    "    parser.add_argument(\"--image\", required=True, help=\"Path to the input image\")\n",
    "    parser.add_argument(\"--message\", required=True, help=\"Secret message to hide\")\n",
    "    parser.add_argument(\"--output\", required=True, help=\"Path to save the output stego image\")\n",
    "    \n",
    "    args = parser.parse_args()\n",
    "    key = generate_key()\n",
    "    print(f\"Generated Key (Save this!): {key.decode()}\")\n",
    "    \n",
    "    encode_message(args.image, args.message, key, args.output)\n",
    "\n"
   ]
  },
  {
   "cell_type": "code",
   "execution_count": null,
   "id": "5116ab0c-5fbe-47a6-9cc6-69b86dac5737",
   "metadata": {},
   "outputs": [],
   "source": []
  }
 ],
 "metadata": {
  "kernelspec": {
   "display_name": "Python 3 (ipykernel)",
   "language": "python",
   "name": "python3"
  },
  "language_info": {
   "codemirror_mode": {
    "name": "ipython",
    "version": 3
   },
   "file_extension": ".py",
   "mimetype": "text/x-python",
   "name": "python",
   "nbconvert_exporter": "python",
   "pygments_lexer": "ipython3",
   "version": "3.12.7"
  }
 },
 "nbformat": 4,
 "nbformat_minor": 5
}
