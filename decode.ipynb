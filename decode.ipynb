{
 "cells": [
  {
   "cell_type": "code",
   "execution_count": 6,
   "id": "a1ba0cf6-2931-40dc-878f-cdfe4b335b6f",
   "metadata": {},
   "outputs": [
    {
     "name": "stdin",
     "output_type": "stream",
     "text": [
      "Enter the path to the stego image:  C:\\Users\\user\\Downloads\\Nature pic\\stego_image.png\n",
      "Enter the encryption key:  LV0cqv01VCewhkjvyIaoshVgRYOYMk5HsBVpySQB6Kk=\n"
     ]
    },
    {
     "name": "stdout",
     "output_type": "stream",
     "text": [
      "\n",
      "Error: Fernet key must be 32 url-safe base64-encoded bytes.\n"
     ]
    }
   ],
   "source": [
    "import cv2\n",
    "import numpy as np\n",
    "import base64\n",
    "from cryptography.fernet import Fernet\n",
    "\n",
    "# Function to decrypt the message\n",
    "def decrypt_message(encrypted_message, key):\n",
    "    cipher = Fernet(key)\n",
    "    return cipher.decrypt(encrypted_message).decode()\n",
    "\n",
    "# Function to extract binary data from the image\n",
    "def extract_binary_data(image_path):\n",
    "    img = cv2.imread(image_path)\n",
    "    if img is None:\n",
    "        raise FileNotFoundError(f\"Error: Unable to read image at '{image_path}'. Check the file path and format.\")\n",
    "\n",
    "    binary_data = \"\"\n",
    "    for row in img:\n",
    "        for pixel in row:\n",
    "            for channel in pixel:  # Iterate through R, G, B channels\n",
    "                binary_data += str(channel & 1)  # Extract the least significant bit\n",
    "                \n",
    "    return binary_data\n",
    "\n",
    "# Function to convert binary data back to bytes\n",
    "def binary_to_bytes(binary_data):\n",
    "    bytes_list = [binary_data[i:i+8] for i in range(0, len(binary_data), 8)]\n",
    "    return bytearray([int(byte, 2) for byte in bytes_list])\n",
    "\n",
    "# Function to extract and decrypt the message\n",
    "def decode_message(image_path, key):\n",
    "    binary_data = extract_binary_data(image_path)\n",
    "    \n",
    "    # Find the end marker (1111111111111110)\n",
    "    end_marker = \"1111111111111110\"\n",
    "    end_index = binary_data.find(end_marker)\n",
    "    if end_index == -1:\n",
    "        raise ValueError(\"Error: No hidden message found in the image.\")\n",
    "    \n",
    "    binary_message = binary_data[:end_index]  # Extract only the message part\n",
    "    encrypted_message = binary_to_bytes(binary_message)\n",
    "    \n",
    "    # Convert key from Base64 string to bytes\n",
    "    try:\n",
    "        key_bytes = base64.urlsafe_b64decode(key)\n",
    "    except Exception as e:\n",
    "        raise ValueError(f\"Invalid encryption key. Ensure you entered the correct key.\\nError: {e}\")\n",
    "    \n",
    "    # Decrypt the message\n",
    "    decrypted_message = decrypt_message(encrypted_message, key_bytes)\n",
    "    return decrypted_message\n",
    "\n",
    "# Input values in Jupyter Notebook\n",
    "image_path = input(\"Enter the path to the stego image: \").strip()\n",
    "key = input(\"Enter the encryption key: \").strip()\n",
    "\n",
    "# Decode and display the message\n",
    "try:\n",
    "    decoded_message = decode_message(image_path, key)\n",
    "    print(f\"\\nDecoded Message: {decoded_message}\")\n",
    "except Exception as e:\n",
    "    print(f\"\\nError: {e}\")\n"
   ]
  },
  {
   "cell_type": "code",
   "execution_count": null,
   "id": "3ca4b739-7dff-43bf-a375-b468ef7e81a8",
   "metadata": {},
   "outputs": [],
   "source": []
  }
 ],
 "metadata": {
  "kernelspec": {
   "display_name": "Python 3 (ipykernel)",
   "language": "python",
   "name": "python3"
  },
  "language_info": {
   "codemirror_mode": {
    "name": "ipython",
    "version": 3
   },
   "file_extension": ".py",
   "mimetype": "text/x-python",
   "name": "python",
   "nbconvert_exporter": "python",
   "pygments_lexer": "ipython3",
   "version": "3.12.7"
  }
 },
 "nbformat": 4,
 "nbformat_minor": 5
}
